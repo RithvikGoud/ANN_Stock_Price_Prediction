{
 "cells": [
  {
   "cell_type": "code",
   "execution_count": 15,
   "id": "3968bf47-c411-443f-ad26-785325ade73d",
   "metadata": {},
   "outputs": [],
   "source": [
    "from sklearn.model_selection import train_test_split\n",
    "import pandas as pd\n",
    "import numpy as np\n",
    "from sklearn.preprocessing import StandardScaler\n",
    "from sklearn.metrics import mean_squared_error, r2_score"
   ]
  },
  {
   "cell_type": "code",
   "execution_count": 16,
   "id": "9c1a4802-f506-4aa1-a8a1-061d96741d64",
   "metadata": {},
   "outputs": [],
   "source": [
    "class model:\n",
    "    def __init__(self,lr=0.01,epochs=1000):\n",
    "        self.lr=lr\n",
    "        self.epochs=epochs\n",
    "        self.weights=None\n",
    "        self.bias=None\n",
    "    \n",
    "    def fit(self,X,y):\n",
    "        n_sample,n_features=X.shape\n",
    "        self.weights=np.zeros(n_features)\n",
    "        self.bias=0\n",
    "\n",
    "        while(self.epochs>0):\n",
    "            y_pred=np.dot(X,self.weights)+self.bias\n",
    "\n",
    "            dw=(1/n_sample)*np.dot(X.T,(y_pred-y))\n",
    "            db=(1/n_sample)*np.sum(y_pred-y)\n",
    "\n",
    "            self.weights-=self.lr*dw\n",
    "            self.bias-=self.lr*db\n",
    "\n",
    "            self.epochs=self.epochs-1\n",
    "            \n",
    "    def predict(self,X):\n",
    "        y_pred=np.dot(X,self.weights)+self.bias\n",
    "        return y_pred"
   ]
  },
  {
   "cell_type": "code",
   "execution_count": 17,
   "id": "84c9fbfd-25fd-4d1a-9e69-449793e7de67",
   "metadata": {},
   "outputs": [],
   "source": [
    "def mse(y_test, y_pred):\n",
    "    return np.mean((y_test - y_pred)**2)"
   ]
  },
  {
   "cell_type": "code",
   "execution_count": 18,
   "id": "e2d0efc0-5857-40b3-b897-b1202cced964",
   "metadata": {},
   "outputs": [],
   "source": [
    "df=pd.read_csv(r\"C:\\Users\\MRITH\\OneDrive\\Documents\\DL\\ANN_Stock_Price_Prediction_Rithvik\\AAPL.csv\")"
   ]
  },
  {
   "cell_type": "code",
   "execution_count": 19,
   "id": "ca983e6b-00b5-44bd-8af3-6e00a4b893db",
   "metadata": {},
   "outputs": [],
   "source": [
    "df.drop(columns=[\"Open\",\"High\",\"Low\",\"Adj Close\",\"Volume\"],inplace=True)"
   ]
  },
  {
   "cell_type": "code",
   "execution_count": 20,
   "id": "d59e0ecc-6c92-442e-a9c0-b4218141486f",
   "metadata": {},
   "outputs": [],
   "source": [
    "df[\"Date\"] = pd.to_datetime(df[\"Date\"])\n",
    "df[\"Month\"]=df[\"Date\"].dt.month\n",
    "df[\"Dates\"]=df[\"Date\"].dt.day\n",
    "df[\"Year\"]=df[\"Date\"].dt.year"
   ]
  },
  {
   "cell_type": "code",
   "execution_count": 21,
   "id": "273e84bf-c9c2-4030-bd15-e9e818c85e79",
   "metadata": {
    "scrolled": true
   },
   "outputs": [],
   "source": [
    "df.drop(columns=\"Date\",inplace=True)"
   ]
  },
  {
   "cell_type": "code",
   "execution_count": 22,
   "id": "18ccfc73",
   "metadata": {},
   "outputs": [
    {
     "data": {
      "text/plain": [
       "(252, 4)"
      ]
     },
     "execution_count": 22,
     "metadata": {},
     "output_type": "execute_result"
    }
   ],
   "source": [
    "df.shape"
   ]
  },
  {
   "cell_type": "code",
   "execution_count": 23,
   "id": "6bbd5ef9-e89c-4436-9702-fe1888a8ef4f",
   "metadata": {},
   "outputs": [],
   "source": [
    "y=df[\"Close\"].values\n",
    "X=df.drop(columns=(\"Close\"))"
   ]
  },
  {
   "cell_type": "code",
   "execution_count": 24,
   "id": "eaaf019c-c8ba-4c82-b51e-3d99285cb8e5",
   "metadata": {},
   "outputs": [],
   "source": [
    "scaler = StandardScaler()\n",
    "X = scaler.fit_transform(df[['Dates','Month','Year']]) "
   ]
  },
  {
   "cell_type": "code",
   "execution_count": 25,
   "id": "4cc15ba2-e6ab-4b71-84da-70ec87688807",
   "metadata": {},
   "outputs": [],
   "source": [
    "X_train,X_test,y_train,y_test=train_test_split(X,y,test_size=0.2,random_state=30)\n",
    "reg=model(lr=0.01)\n",
    "reg.fit(X_train,y_train)\n",
    "predictions=reg.predict(X_test)"
   ]
  },
  {
   "cell_type": "code",
   "execution_count": 26,
   "id": "545dac84-9b68-4590-9500-3176dc2b9ca5",
   "metadata": {},
   "outputs": [
    {
     "name": "stdout",
     "output_type": "stream",
     "text": [
      "My model mean square error is :  111.89928150357987\n",
      "     Predicted      Actual\n",
      "0   198.981114  210.619995\n",
      "1   174.640947  185.139999\n",
      "2   179.189217  179.070007\n",
      "3   175.445877  194.169998\n",
      "4   184.246213  173.000000\n",
      "5   175.093720  188.630005\n",
      "6   183.212074  177.490005\n",
      "7   192.968264  198.110001\n",
      "8   187.687704  177.570007\n",
      "9   188.392017  189.710007\n",
      "10  184.268544  168.220001\n",
      "11  193.901786  191.039993\n",
      "12  183.463614  179.800003\n",
      "13  175.345261  195.179993\n",
      "14  198.427725  216.669998\n",
      "15  178.535211  182.910004\n",
      "16  197.874335  194.479996\n",
      "17  197.824027  195.869995\n",
      "18  203.406436  225.009995\n",
      "19  179.921507  182.320007\n",
      "20  174.059581  177.970001\n",
      "21  175.697418  188.039993\n",
      "22  193.398705  183.050003\n",
      "23  192.565799  192.320007\n",
      "24  193.348397  184.570007\n",
      "25  173.606808  195.610001\n",
      "26  179.519042  185.039993\n",
      "27  179.669967  182.309998\n",
      "28  174.965127  180.190002\n",
      "29  178.915345  186.860001\n",
      "30  184.497753  176.080002\n",
      "31  174.439715  181.179993\n",
      "32  179.541373  171.960007\n",
      "33  184.067312  173.000000\n",
      "34  183.866079  175.460007\n",
      "35  198.478033  214.289993\n",
      "36  179.619659  183.860001\n",
      "37  194.002403  190.899994\n",
      "38  174.590639  185.559998\n",
      "39  179.971815  184.369995\n",
      "40  175.647110  191.729996\n",
      "41  183.592207  179.660004\n",
      "42  193.197473  181.710007\n",
      "43  192.515491  193.419998\n",
      "44  179.591682  170.429993\n",
      "45  192.314258  191.240005\n",
      "46  188.772151  175.039993\n",
      "47  192.945932  169.300003\n",
      "48  183.743132  175.100006\n",
      "49  174.389407  181.910004\n",
      "50  180.022123  182.520004\n"
     ]
    }
   ],
   "source": [
    "mse_value=mse(y_test,predictions)\n",
    "print(\"My model mean square error is : \",mse_value)\n",
    "newdf = pd.DataFrame({'Predicted':predictions,'Actual':y_test})\n",
    "print(newdf)"
   ]
  },
  {
   "cell_type": "code",
   "execution_count": null,
   "id": "79ede93d",
   "metadata": {},
   "outputs": [],
   "source": []
  }
 ],
 "metadata": {
  "kernelspec": {
   "display_name": "Python 3 (ipykernel)",
   "language": "python",
   "name": "python3"
  },
  "language_info": {
   "codemirror_mode": {
    "name": "ipython",
    "version": 3
   },
   "file_extension": ".py",
   "mimetype": "text/x-python",
   "name": "python",
   "nbconvert_exporter": "python",
   "pygments_lexer": "ipython3",
   "version": "3.12.4"
  }
 },
 "nbformat": 4,
 "nbformat_minor": 5
}
